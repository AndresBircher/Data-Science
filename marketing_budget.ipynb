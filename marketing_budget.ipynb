{
 "cells": [
  {
   "cell_type": "markdown",
   "metadata": {},
   "source": [
    "### Marketing Budget and Actual Sales Dataset\n",
    "\n",
    "Dataset about Markting Budget in Thousands and Actual Sales in Millions. This dataset can be process using linear regression methods to get predictions about future sales.\n",
    "\n",
    "Columns that used here are:\n",
    "marketingbudget(thousands) = represent the budget in thousand of US Dollars actualsales(millions) = represents the sales in millions\n",
    "\n",
    "https://www.kaggle.com/datasets/jacouchs/marketing-budget-and-actual-sales-dataset"
   ]
  },
  {
   "cell_type": "code",
   "execution_count": 98,
   "metadata": {},
   "outputs": [],
   "source": [
    "import pandas as pd\n",
    "import numpy as np\n",
    "import seaborn as sns\n",
    "import matplotlib.pyplot as plt"
   ]
  },
  {
   "cell_type": "markdown",
   "metadata": {},
   "source": [
    "Importamos dataset"
   ]
  },
  {
   "cell_type": "code",
   "execution_count": 99,
   "metadata": {},
   "outputs": [
    {
     "data": {
      "text/html": [
       "<div>\n",
       "<style scoped>\n",
       "    .dataframe tbody tr th:only-of-type {\n",
       "        vertical-align: middle;\n",
       "    }\n",
       "\n",
       "    .dataframe tbody tr th {\n",
       "        vertical-align: top;\n",
       "    }\n",
       "\n",
       "    .dataframe thead th {\n",
       "        text-align: right;\n",
       "    }\n",
       "</style>\n",
       "<table border=\"1\" class=\"dataframe\">\n",
       "  <thead>\n",
       "    <tr style=\"text-align: right;\">\n",
       "      <th></th>\n",
       "      <th>marketing_budget(thousands)</th>\n",
       "      <th>actual_sales(millions)</th>\n",
       "    </tr>\n",
       "  </thead>\n",
       "  <tbody>\n",
       "    <tr>\n",
       "      <th>0</th>\n",
       "      <td>187.86</td>\n",
       "      <td>12.14</td>\n",
       "    </tr>\n",
       "    <tr>\n",
       "      <th>1</th>\n",
       "      <td>138.13</td>\n",
       "      <td>12.33</td>\n",
       "    </tr>\n",
       "    <tr>\n",
       "      <th>2</th>\n",
       "      <td>177.89</td>\n",
       "      <td>8.41</td>\n",
       "    </tr>\n",
       "    <tr>\n",
       "      <th>3</th>\n",
       "      <td>181.13</td>\n",
       "      <td>8.90</td>\n",
       "    </tr>\n",
       "    <tr>\n",
       "      <th>4</th>\n",
       "      <td>151.50</td>\n",
       "      <td>12.57</td>\n",
       "    </tr>\n",
       "  </tbody>\n",
       "</table>\n",
       "</div>"
      ],
      "text/plain": [
       "   marketing_budget(thousands)  actual_sales(millions)\n",
       "0                       187.86                   12.14\n",
       "1                       138.13                   12.33\n",
       "2                       177.89                    8.41\n",
       "3                       181.13                    8.90\n",
       "4                       151.50                   12.57"
      ]
     },
     "execution_count": 99,
     "metadata": {},
     "output_type": "execute_result"
    }
   ],
   "source": [
    "sales =  pd.read_csv('C:\\desarrollo\\proyectos\\datasets\\sales_dataset.csv')\n",
    "\n",
    "sales.head(5)"
   ]
  },
  {
   "cell_type": "code",
   "execution_count": 100,
   "metadata": {},
   "outputs": [
    {
     "name": "stdout",
     "output_type": "stream",
     "text": [
      "(222, 2)\n"
     ]
    },
    {
     "data": {
      "text/html": [
       "<div>\n",
       "<style scoped>\n",
       "    .dataframe tbody tr th:only-of-type {\n",
       "        vertical-align: middle;\n",
       "    }\n",
       "\n",
       "    .dataframe tbody tr th {\n",
       "        vertical-align: top;\n",
       "    }\n",
       "\n",
       "    .dataframe thead th {\n",
       "        text-align: right;\n",
       "    }\n",
       "</style>\n",
       "<table border=\"1\" class=\"dataframe\">\n",
       "  <thead>\n",
       "    <tr style=\"text-align: right;\">\n",
       "      <th></th>\n",
       "      <th>marketing_budget(thousands)</th>\n",
       "      <th>actual_sales(millions)</th>\n",
       "    </tr>\n",
       "  </thead>\n",
       "  <tbody>\n",
       "    <tr>\n",
       "      <th>count</th>\n",
       "      <td>222.000000</td>\n",
       "      <td>222.000000</td>\n",
       "    </tr>\n",
       "    <tr>\n",
       "      <th>mean</th>\n",
       "      <td>257.992883</td>\n",
       "      <td>16.083198</td>\n",
       "    </tr>\n",
       "    <tr>\n",
       "      <th>std</th>\n",
       "      <td>78.439312</td>\n",
       "      <td>4.638950</td>\n",
       "    </tr>\n",
       "    <tr>\n",
       "      <th>min</th>\n",
       "      <td>101.910000</td>\n",
       "      <td>8.010000</td>\n",
       "    </tr>\n",
       "    <tr>\n",
       "      <th>25%</th>\n",
       "      <td>189.585000</td>\n",
       "      <td>12.445000</td>\n",
       "    </tr>\n",
       "    <tr>\n",
       "      <th>50%</th>\n",
       "      <td>262.485000</td>\n",
       "      <td>15.560000</td>\n",
       "    </tr>\n",
       "    <tr>\n",
       "      <th>75%</th>\n",
       "      <td>327.787500</td>\n",
       "      <td>19.310000</td>\n",
       "    </tr>\n",
       "    <tr>\n",
       "      <th>max</th>\n",
       "      <td>396.880000</td>\n",
       "      <td>25.980000</td>\n",
       "    </tr>\n",
       "  </tbody>\n",
       "</table>\n",
       "</div>"
      ],
      "text/plain": [
       "       marketing_budget(thousands)  actual_sales(millions)\n",
       "count                   222.000000              222.000000\n",
       "mean                    257.992883               16.083198\n",
       "std                      78.439312                4.638950\n",
       "min                     101.910000                8.010000\n",
       "25%                     189.585000               12.445000\n",
       "50%                     262.485000               15.560000\n",
       "75%                     327.787500               19.310000\n",
       "max                     396.880000               25.980000"
      ]
     },
     "execution_count": 100,
     "metadata": {},
     "output_type": "execute_result"
    }
   ],
   "source": [
    "print(sales.shape)\n",
    "sales.describe()"
   ]
  },
  {
   "cell_type": "markdown",
   "metadata": {},
   "source": [
    "Agregamos una columna más para ver en promedio cuanto representa en porcentaje . Para esto debemos llevar todo a las mismas unidades (elejimos millones)"
   ]
  },
  {
   "cell_type": "code",
   "execution_count": 101,
   "metadata": {},
   "outputs": [
    {
     "data": {
      "text/html": [
       "<div>\n",
       "<style scoped>\n",
       "    .dataframe tbody tr th:only-of-type {\n",
       "        vertical-align: middle;\n",
       "    }\n",
       "\n",
       "    .dataframe tbody tr th {\n",
       "        vertical-align: top;\n",
       "    }\n",
       "\n",
       "    .dataframe thead th {\n",
       "        text-align: right;\n",
       "    }\n",
       "</style>\n",
       "<table border=\"1\" class=\"dataframe\">\n",
       "  <thead>\n",
       "    <tr style=\"text-align: right;\">\n",
       "      <th></th>\n",
       "      <th>marketing_budget(thousands)</th>\n",
       "      <th>actual_sales(millions)</th>\n",
       "      <th>%_sobre_ventas</th>\n",
       "    </tr>\n",
       "  </thead>\n",
       "  <tbody>\n",
       "    <tr>\n",
       "      <th>0</th>\n",
       "      <td>187.86</td>\n",
       "      <td>12.14</td>\n",
       "      <td>15.47</td>\n",
       "    </tr>\n",
       "    <tr>\n",
       "      <th>1</th>\n",
       "      <td>138.13</td>\n",
       "      <td>12.33</td>\n",
       "      <td>11.20</td>\n",
       "    </tr>\n",
       "    <tr>\n",
       "      <th>2</th>\n",
       "      <td>177.89</td>\n",
       "      <td>8.41</td>\n",
       "      <td>21.15</td>\n",
       "    </tr>\n",
       "    <tr>\n",
       "      <th>3</th>\n",
       "      <td>181.13</td>\n",
       "      <td>8.90</td>\n",
       "      <td>20.35</td>\n",
       "    </tr>\n",
       "    <tr>\n",
       "      <th>4</th>\n",
       "      <td>151.50</td>\n",
       "      <td>12.57</td>\n",
       "      <td>12.05</td>\n",
       "    </tr>\n",
       "    <tr>\n",
       "      <th>5</th>\n",
       "      <td>106.87</td>\n",
       "      <td>11.30</td>\n",
       "      <td>9.46</td>\n",
       "    </tr>\n",
       "    <tr>\n",
       "      <th>6</th>\n",
       "      <td>160.94</td>\n",
       "      <td>11.66</td>\n",
       "      <td>13.80</td>\n",
       "    </tr>\n",
       "    <tr>\n",
       "      <th>7</th>\n",
       "      <td>140.09</td>\n",
       "      <td>10.93</td>\n",
       "      <td>12.82</td>\n",
       "    </tr>\n",
       "    <tr>\n",
       "      <th>8</th>\n",
       "      <td>132.58</td>\n",
       "      <td>11.99</td>\n",
       "      <td>11.06</td>\n",
       "    </tr>\n",
       "    <tr>\n",
       "      <th>9</th>\n",
       "      <td>127.19</td>\n",
       "      <td>9.44</td>\n",
       "      <td>13.47</td>\n",
       "    </tr>\n",
       "  </tbody>\n",
       "</table>\n",
       "</div>"
      ],
      "text/plain": [
       "   marketing_budget(thousands)  actual_sales(millions)  %_sobre_ventas\n",
       "0                       187.86                   12.14           15.47\n",
       "1                       138.13                   12.33           11.20\n",
       "2                       177.89                    8.41           21.15\n",
       "3                       181.13                    8.90           20.35\n",
       "4                       151.50                   12.57           12.05\n",
       "5                       106.87                   11.30            9.46\n",
       "6                       160.94                   11.66           13.80\n",
       "7                       140.09                   10.93           12.82\n",
       "8                       132.58                   11.99           11.06\n",
       "9                       127.19                    9.44           13.47"
      ]
     },
     "execution_count": 101,
     "metadata": {},
     "output_type": "execute_result"
    }
   ],
   "source": [
    "sales['%_sobre_ventas'] = ((sales['marketing_budget(thousands)']/ 100) / sales['actual_sales(millions)'] * 100).round(2)\n",
    "\n",
    "sales.head(10)"
   ]
  },
  {
   "cell_type": "markdown",
   "metadata": {},
   "source": [
    "Ploteamos con seaborns\n"
   ]
  },
  {
   "cell_type": "code",
   "execution_count": 102,
   "metadata": {},
   "outputs": [
    {
     "data": {
      "image/png": "[encoded data removed]",
      "text/plain": [
       "<Figure size 504x504 with 3 Axes>"
      ]
     },
     "metadata": {},
     "output_type": "display_data"
    }
   ],
   "source": [
    "import seaborn as sns\n",
    "sns.set_theme(style=\"darkgrid\")\n",
    "\n",
    "g = sns.jointplot(x=\"actual_sales(millions)\", y=\"marketing_budget(thousands)\", data=sales,\n",
    "                  kind=\"reg\", truncate=False,\n",
    "                  xlim=(0,27), ylim=(0, 400),\n",
    "                  color=\"m\", height=7)"
   ]
  },
  {
   "cell_type": "markdown",
   "metadata": {},
   "source": [
    "### Analizamos la distribucion de los % sobre ventas\n",
    "\n",
    "Obtenemos que el bugget es en promedio un 16% y que la distribucion se aproxima a una distr. Normal"
   ]
  },
  {
   "cell_type": "code",
   "execution_count": 103,
   "metadata": {},
   "outputs": [
    {
     "name": "stdout",
     "output_type": "stream",
     "text": [
      "count    222.000000\n",
      "mean      16.173423\n",
      "std        2.971890\n",
      "min        9.110000\n",
      "25%       13.955000\n",
      "50%       16.195000\n",
      "75%       17.860000\n",
      "max       24.900000\n",
      "Name: %_sobre_ventas, dtype: float64\n"
     ]
    },
    {
     "name": "stderr",
     "output_type": "stream",
     "text": [
      "c:\\Users\\LENOVO\\anaconda3\\lib\\site-packages\\seaborn\\distributions.py:2619: FutureWarning: `distplot` is a deprecated function and will be removed in a future version. Please adapt your code to use either `displot` (a figure-level function with similar flexibility) or `histplot` (an axes-level function for histograms).\n",
      "  warnings.warn(msg, FutureWarning)\n"
     ]
    },
    {
     "data": {
      "image/png": "[encoded data removed]",
      "text/plain": [
       "<Figure size 432x288 with 1 Axes>"
      ]
     },
     "metadata": {},
     "output_type": "display_data"
    }
   ],
   "source": [
    "sns.distplot( a=sales['%_sobre_ventas'], hist=True, kde=True, rug=False )\n",
    "\n",
    "print(sales.describe()['%_sobre_ventas'])"
   ]
  },
  {
   "cell_type": "markdown",
   "metadata": {},
   "source": [
    "#### Regresion Lineal \n",
    "Ahora vamos a intentar pronosticar en funcion de los datos cual sería el presupuesto ideal dado el valor de las ventas actuales"
   ]
  },
  {
   "cell_type": "code",
   "execution_count": 104,
   "metadata": {},
   "outputs": [],
   "source": [
    "from sklearn.linear_model import LinearRegression\n",
    "from sklearn.model_selection import train_test_split\n",
    "from sklearn import metrics"
   ]
  },
  {
   "cell_type": "code",
   "execution_count": 105,
   "metadata": {},
   "outputs": [
    {
     "data": {
      "text/plain": [
       "LinearRegression()"
      ]
     },
     "execution_count": 105,
     "metadata": {},
     "output_type": "execute_result"
    }
   ],
   "source": [
    "X = sales['marketing_budget(thousands)'].values.reshape(-1,1)\n",
    "y = sales['actual_sales(millions)']\n",
    "\n",
    "\n",
    "model = LinearRegression()\n",
    "\n",
    "model.fit(X,y)\n",
    "\n"
   ]
  },
  {
   "cell_type": "code",
   "execution_count": 106,
   "metadata": {},
   "outputs": [
    {
     "name": "stdout",
     "output_type": "stream",
     "text": [
      "La función para predecir será: \n",
      " marketing_budget(thousands) =  [0.05] * actual_sales(millions) + 3.32\n"
     ]
    }
   ],
   "source": [
    "print(f'La función para predecir será: \\n {sales.columns[0]} =  {model.coef_.round(2)} * {sales.columns[1]} + {model.intercept_.round(2)}')"
   ]
  },
  {
   "cell_type": "code",
   "execution_count": 92,
   "metadata": {},
   "outputs": [
    {
     "data": {
      "text/plain": [
       "'marketing_budget(thousands)'"
      ]
     },
     "execution_count": 92,
     "metadata": {},
     "output_type": "execute_result"
    }
   ],
   "source": []
  },
  {
   "cell_type": "markdown",
   "metadata": {},
   "source": [
    "#### Chequeo con un valor de referencia en el index 22"
   ]
  },
  {
   "cell_type": "code",
   "execution_count": 107,
   "metadata": {},
   "outputs": [
    {
     "name": "stdout",
     "output_type": "stream",
     "text": [
      "    marketing_budget(thousands)  actual_sales(millions)  %_sobre_ventas\n",
      "22                       213.65                   13.06           16.36\n",
      " La prediccion de ventas para el index 22 es de [14.9025]\n"
     ]
    }
   ],
   "source": [
    "\n",
    "print(sales[sales.index == 22])\n",
    "\n",
    "pred = model.coef_.round(2) * 231.65 + model.intercept_.round(2)\n",
    "\n",
    "print(f' La prediccion de ventas para el index 22 es de {pred}')"
   ]
  },
  {
   "cell_type": "code",
   "execution_count": 114,
   "metadata": {},
   "outputs": [
    {
     "name": "stdout",
     "output_type": "stream",
     "text": [
      "El modelo tiene un ajuste de :0.7001\n"
     ]
    }
   ],
   "source": [
    "from sklearn.metrics import r2_score\n",
    "\n",
    "y_true = sales['actual_sales(millions)']\n",
    "y_pred = model.predict(X)\n",
    "\n",
    "R2 = r2_score(y_true, y_pred).round(4)\n",
    "\n",
    "R2\n",
    "\n",
    "print(f'El modelo tiene un ajuste de :{R2}')"
   ]
  },
  {
   "cell_type": "markdown",
   "metadata": {},
   "source": [
    "### Creamos Regresion Lineal para ver como es nuestra preformance en datos desconocidos. Separamos en train - test\n",
    "\n",
    "Obtenermos que los resultados en test son levememente menores a los de train. 'R2 = 0.63'\n",
    "\n"
   ]
  },
  {
   "cell_type": "code",
   "execution_count": 122,
   "metadata": {},
   "outputs": [],
   "source": [
    "X_train, X_test, y_train, y_test =  train_test_split(X, y, test_size=0.33, random_state=42, shuffle=False)\n",
    "\n",
    "model_2 = LinearRegression()\n",
    "\n",
    "model_2.fit(X_train,y_train)\n",
    "\n",
    "pred_2 = model_2.predict(X_test)\n",
    "\n",
    "df_pred = pd.DataFrame()\n",
    "\n",
    "#Agrego las columnas\n",
    "df_pred[\"Ventas_Reales\"] = pd.Series(y_train)\n",
    "df_pred[\"Prediccion\"] = pd.Series(pred_2)\n",
    "\n"
   ]
  },
  {
   "cell_type": "code",
   "execution_count": 110,
   "metadata": {},
   "outputs": [
    {
     "name": "stdout",
     "output_type": "stream",
     "text": [
      "El Error medio absoluto es : 2.05\n",
      "El Error cuadratico medio (MSE) es : 6.71\n",
      "El Error medio (RMSE) es : 2.59\n",
      "El R2 es : 0.6629\n"
     ]
    }
   ],
   "source": [
    "from sklearn.metrics import mean_absolute_error , mean_squared_error\n",
    "\n",
    "R2_2 = r2_score(y_test, pred_2).round(4)\n",
    "MSE = mean_squared_error(y_test, pred_2)\n",
    "MAE = mean_absolute_error(y_test, pred_2)\n",
    "RMSE = np.sqrt(MSE)\n",
    "\n",
    "# Computo los errores que puedo tener en la prediccion del Budget de Marketing en función de las Ventas\n",
    "print(f'El Error medio absoluto es : {MAE.round(2)}')\n",
    "print(f'El Error cuadratico medio (MSE) es : {MSE.round(2)}')\n",
    "print(f'El Error medio (RMSE) es : {RMSE.round(2)}')\n",
    "print(f'El R2 es : {R2_2}')"
   ]
  },
  {
   "cell_type": "markdown",
   "metadata": {},
   "source": [
    "#### Graficamos las ventas reales vs las predicciones\n",
    "\n",
    "Notamos que nuestro modelo tiende a sobre-estimar los ingresos futuros ya que la mayoria de los puntos se encuentran por encima de nuestyra recta de Regresión"
   ]
  },
  {
   "cell_type": "code",
   "execution_count": 123,
   "metadata": {},
   "outputs": [
    {
     "data": {
      "image/png": "[encoded data removed]",
      "text/plain": [
       "<Figure size 720x720 with 1 Axes>"
      ]
     },
     "metadata": {},
     "output_type": "display_data"
    }
   ],
   "source": [
    "#Graficamos\n",
    "fig = plt.figure(figsize=(10,10))\n",
    "\n",
    "axes = sns.scatterplot(data=df_pred,x=\"Ventas_Reales\",y=\"Prediccion\",hue=\"Prediccion\",palette=\"cool\",legend=False)\n",
    "\n",
    "start = min(y_train.min(),pred_2.min())\n",
    "end   = max(y_train.max(),pred_2.max())\n",
    "\n",
    "line= plt.plot([start,end],[start,end],\"k--\")"
   ]
  },
  {
   "cell_type": "markdown",
   "metadata": {},
   "source": [
    "##### Evaluamos regularizar nuestro modelo con Lasso, Ridge y Elastic Nets.\n",
    "\n",
    "Vemos que dado que tenemos una variable para predecir , los valores de las regularizaciones son similares a la Regresion Lineal sin clasificar."
   ]
  },
  {
   "cell_type": "code",
   "execution_count": 52,
   "metadata": {},
   "outputs": [
    {
     "name": "stdout",
     "output_type": "stream",
     "text": [
      "          Reglin: Promedio Puntajes R2 = 67.20%\n",
      "     ElasticsNet: Promedio Puntajes R2 = 67.23%\n",
      "           Lasso: Promedio Puntajes R2 = 67.21%\n",
      "           Ridge: Promedio Puntajes R2 = 67.20%\n"
     ]
    }
   ],
   "source": [
    "from sklearn.model_selection import KFold, cross_val_score\n",
    "from sklearn.linear_model import Ridge,Lasso,ElasticNet\n",
    "\n",
    "estimadores = {'Reglin':LinearRegression(),'ElasticsNet': ElasticNet(),'Lasso':Lasso(),'Ridge':Ridge()}\n",
    "\n",
    "for nom_est,obj_est in estimadores.items():\n",
    "    kfold = KFold(n_splits = 10, random_state = 11 , shuffle=True)\n",
    "    puntuacion = cross_val_score(estimator = obj_est , X = X , y= y , cv=kfold , scoring ='r2' )\n",
    "    print(f'{nom_est:>16}:'+ f' Promedio Puntajes R2 = {puntuacion.mean():.2%}')"
   ]
  }
 ],
 "metadata": {
  "kernelspec": {
   "display_name": "Python 3.9.12 ('base')",
   "language": "python",
   "name": "python3"
  },
  "language_info": {
   "codemirror_mode": {
    "name": "ipython",
    "version": 3
   },
   "file_extension": ".py",
   "mimetype": "text/x-python",
   "name": "python",
   "nbconvert_exporter": "python",
   "pygments_lexer": "ipython3",
   "version": "3.9.12"
  },
  "orig_nbformat": 4,
  "vscode": {
   "interpreter": {
    "hash": "7679c2132d3f6ce38c9df14d554b39c06862b36a4e6689c81f9ae15bd0911d7d"
   }
  }
 },
 "nbformat": 4,
 "nbformat_minor": 2
}
