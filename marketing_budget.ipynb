{
 "cells": [
  {
   "cell_type": "markdown",
   "metadata": {},
   "source": [
    "### Marketing Budget and Actual Sales Dataset\n",
    "\n",
    "Dataset about Markting Budget in Thousands and Actual Sales in Millions. This dataset can be process using linear regression methods to get predictions about future sales.\n",
    "\n",
    "Columns that used here are:\n",
    "marketingbudget(thousands) = represent the budget in thousand of US Dollars actualsales(millions) = represents the sales in millions\n",
    "\n",
    "https://www.kaggle.com/datasets/jacouchs/marketing-budget-and-actual-sales-dataset"
   ]
  },
  {
   "cell_type": "code",
   "execution_count": 3,
   "metadata": {},
   "outputs": [],
   "source": [
    "import pandas as pd\n",
    "import numpy as np\n",
    "import seaborn as sns\n",
    "import matplotlib.pyplot as plt"
   ]
  },
  {
   "cell_type": "markdown",
   "metadata": {},
   "source": [
    "Importamos dataset"
   ]
  },
  {
   "cell_type": "code",
   "execution_count": 6,
   "metadata": {},
   "outputs": [
    {
     "data": {
      "text/html": [
       "<div>\n",
       "<style scoped>\n",
       "    .dataframe tbody tr th:only-of-type {\n",
       "        vertical-align: middle;\n",
       "    }\n",
       "\n",
       "    .dataframe tbody tr th {\n",
       "        vertical-align: top;\n",
       "    }\n",
       "\n",
       "    .dataframe thead th {\n",
       "        text-align: right;\n",
       "    }\n",
       "</style>\n",
       "<table border=\"1\" class=\"dataframe\">\n",
       "  <thead>\n",
       "    <tr style=\"text-align: right;\">\n",
       "      <th></th>\n",
       "      <th>marketing_budget(thousands)</th>\n",
       "      <th>actual_sales(millions)</th>\n",
       "    </tr>\n",
       "  </thead>\n",
       "  <tbody>\n",
       "    <tr>\n",
       "      <th>0</th>\n",
       "      <td>187.86</td>\n",
       "      <td>12.14</td>\n",
       "    </tr>\n",
       "    <tr>\n",
       "      <th>1</th>\n",
       "      <td>138.13</td>\n",
       "      <td>12.33</td>\n",
       "    </tr>\n",
       "    <tr>\n",
       "      <th>2</th>\n",
       "      <td>177.89</td>\n",
       "      <td>8.41</td>\n",
       "    </tr>\n",
       "    <tr>\n",
       "      <th>3</th>\n",
       "      <td>181.13</td>\n",
       "      <td>8.90</td>\n",
       "    </tr>\n",
       "    <tr>\n",
       "      <th>4</th>\n",
       "      <td>151.50</td>\n",
       "      <td>12.57</td>\n",
       "    </tr>\n",
       "  </tbody>\n",
       "</table>\n",
       "</div>"
      ],
      "text/plain": [
       "   marketing_budget(thousands)  actual_sales(millions)\n",
       "0                       187.86                   12.14\n",
       "1                       138.13                   12.33\n",
       "2                       177.89                    8.41\n",
       "3                       181.13                    8.90\n",
       "4                       151.50                   12.57"
      ]
     },
     "execution_count": 6,
     "metadata": {},
     "output_type": "execute_result"
    }
   ],
   "source": [
    "sales =  pd.read_csv('C:\\desarrollo\\proyectos\\datasets\\sales_dataset.csv')\n",
    "\n",
    "sales.head(5)"
   ]
  },
  {
   "cell_type": "code",
   "execution_count": 12,
   "metadata": {},
   "outputs": [
    {
     "name": "stdout",
     "output_type": "stream",
     "text": [
      "(222, 2)\n"
     ]
    },
    {
     "data": {
      "text/html": [
       "<div>\n",
       "<style scoped>\n",
       "    .dataframe tbody tr th:only-of-type {\n",
       "        vertical-align: middle;\n",
       "    }\n",
       "\n",
       "    .dataframe tbody tr th {\n",
       "        vertical-align: top;\n",
       "    }\n",
       "\n",
       "    .dataframe thead th {\n",
       "        text-align: right;\n",
       "    }\n",
       "</style>\n",
       "<table border=\"1\" class=\"dataframe\">\n",
       "  <thead>\n",
       "    <tr style=\"text-align: right;\">\n",
       "      <th></th>\n",
       "      <th>marketing_budget(thousands)</th>\n",
       "      <th>actual_sales(millions)</th>\n",
       "    </tr>\n",
       "  </thead>\n",
       "  <tbody>\n",
       "    <tr>\n",
       "      <th>count</th>\n",
       "      <td>222.000000</td>\n",
       "      <td>222.000000</td>\n",
       "    </tr>\n",
       "    <tr>\n",
       "      <th>mean</th>\n",
       "      <td>257.992883</td>\n",
       "      <td>16.083198</td>\n",
       "    </tr>\n",
       "    <tr>\n",
       "      <th>std</th>\n",
       "      <td>78.439312</td>\n",
       "      <td>4.638950</td>\n",
       "    </tr>\n",
       "    <tr>\n",
       "      <th>min</th>\n",
       "      <td>101.910000</td>\n",
       "      <td>8.010000</td>\n",
       "    </tr>\n",
       "    <tr>\n",
       "      <th>25%</th>\n",
       "      <td>189.585000</td>\n",
       "      <td>12.445000</td>\n",
       "    </tr>\n",
       "    <tr>\n",
       "      <th>50%</th>\n",
       "      <td>262.485000</td>\n",
       "      <td>15.560000</td>\n",
       "    </tr>\n",
       "    <tr>\n",
       "      <th>75%</th>\n",
       "      <td>327.787500</td>\n",
       "      <td>19.310000</td>\n",
       "    </tr>\n",
       "    <tr>\n",
       "      <th>max</th>\n",
       "      <td>396.880000</td>\n",
       "      <td>25.980000</td>\n",
       "    </tr>\n",
       "  </tbody>\n",
       "</table>\n",
       "</div>"
      ],
      "text/plain": [
       "       marketing_budget(thousands)  actual_sales(millions)\n",
       "count                   222.000000              222.000000\n",
       "mean                    257.992883               16.083198\n",
       "std                      78.439312                4.638950\n",
       "min                     101.910000                8.010000\n",
       "25%                     189.585000               12.445000\n",
       "50%                     262.485000               15.560000\n",
       "75%                     327.787500               19.310000\n",
       "max                     396.880000               25.980000"
      ]
     },
     "execution_count": 12,
     "metadata": {},
     "output_type": "execute_result"
    }
   ],
   "source": [
    "print(sales.shape)\n",
    "sales.describe()"
   ]
  },
  {
   "cell_type": "markdown",
   "metadata": {},
   "source": [
    "Agregamos una columna más para ver en promedio cuanto representa en porcentaje . Para esto debemos llevar todo a las mismas unidades (elejimos millones)"
   ]
  },
  {
   "cell_type": "code",
   "execution_count": 74,
   "metadata": {},
   "outputs": [
    {
     "data": {
      "text/html": [
       "<div>\n",
       "<style scoped>\n",
       "    .dataframe tbody tr th:only-of-type {\n",
       "        vertical-align: middle;\n",
       "    }\n",
       "\n",
       "    .dataframe tbody tr th {\n",
       "        vertical-align: top;\n",
       "    }\n",
       "\n",
       "    .dataframe thead th {\n",
       "        text-align: right;\n",
       "    }\n",
       "</style>\n",
       "<table border=\"1\" class=\"dataframe\">\n",
       "  <thead>\n",
       "    <tr style=\"text-align: right;\">\n",
       "      <th></th>\n",
       "      <th>marketing_budget(thousands)</th>\n",
       "      <th>actual_sales(millions)</th>\n",
       "      <th>%_sobre_ventas</th>\n",
       "    </tr>\n",
       "  </thead>\n",
       "  <tbody>\n",
       "    <tr>\n",
       "      <th>0</th>\n",
       "      <td>187.86</td>\n",
       "      <td>12.14</td>\n",
       "      <td>15.47</td>\n",
       "    </tr>\n",
       "    <tr>\n",
       "      <th>1</th>\n",
       "      <td>138.13</td>\n",
       "      <td>12.33</td>\n",
       "      <td>11.20</td>\n",
       "    </tr>\n",
       "    <tr>\n",
       "      <th>2</th>\n",
       "      <td>177.89</td>\n",
       "      <td>8.41</td>\n",
       "      <td>21.15</td>\n",
       "    </tr>\n",
       "    <tr>\n",
       "      <th>3</th>\n",
       "      <td>181.13</td>\n",
       "      <td>8.90</td>\n",
       "      <td>20.35</td>\n",
       "    </tr>\n",
       "    <tr>\n",
       "      <th>4</th>\n",
       "      <td>151.50</td>\n",
       "      <td>12.57</td>\n",
       "      <td>12.05</td>\n",
       "    </tr>\n",
       "    <tr>\n",
       "      <th>5</th>\n",
       "      <td>106.87</td>\n",
       "      <td>11.30</td>\n",
       "      <td>9.46</td>\n",
       "    </tr>\n",
       "    <tr>\n",
       "      <th>6</th>\n",
       "      <td>160.94</td>\n",
       "      <td>11.66</td>\n",
       "      <td>13.80</td>\n",
       "    </tr>\n",
       "    <tr>\n",
       "      <th>7</th>\n",
       "      <td>140.09</td>\n",
       "      <td>10.93</td>\n",
       "      <td>12.82</td>\n",
       "    </tr>\n",
       "    <tr>\n",
       "      <th>8</th>\n",
       "      <td>132.58</td>\n",
       "      <td>11.99</td>\n",
       "      <td>11.06</td>\n",
       "    </tr>\n",
       "    <tr>\n",
       "      <th>9</th>\n",
       "      <td>127.19</td>\n",
       "      <td>9.44</td>\n",
       "      <td>13.47</td>\n",
       "    </tr>\n",
       "    <tr>\n",
       "      <th>10</th>\n",
       "      <td>179.32</td>\n",
       "      <td>8.85</td>\n",
       "      <td>20.26</td>\n",
       "    </tr>\n",
       "    <tr>\n",
       "      <th>11</th>\n",
       "      <td>191.26</td>\n",
       "      <td>8.01</td>\n",
       "      <td>23.88</td>\n",
       "    </tr>\n",
       "    <tr>\n",
       "      <th>12</th>\n",
       "      <td>110.85</td>\n",
       "      <td>8.82</td>\n",
       "      <td>12.57</td>\n",
       "    </tr>\n",
       "    <tr>\n",
       "      <th>13</th>\n",
       "      <td>115.51</td>\n",
       "      <td>9.90</td>\n",
       "      <td>11.67</td>\n",
       "    </tr>\n",
       "    <tr>\n",
       "      <th>14</th>\n",
       "      <td>132.42</td>\n",
       "      <td>8.32</td>\n",
       "      <td>15.92</td>\n",
       "    </tr>\n",
       "    <tr>\n",
       "      <th>15</th>\n",
       "      <td>159.72</td>\n",
       "      <td>10.21</td>\n",
       "      <td>15.64</td>\n",
       "    </tr>\n",
       "    <tr>\n",
       "      <th>16</th>\n",
       "      <td>187.15</td>\n",
       "      <td>12.55</td>\n",
       "      <td>14.91</td>\n",
       "    </tr>\n",
       "    <tr>\n",
       "      <th>17</th>\n",
       "      <td>110.54</td>\n",
       "      <td>11.32</td>\n",
       "      <td>9.77</td>\n",
       "    </tr>\n",
       "    <tr>\n",
       "      <th>18</th>\n",
       "      <td>184.42</td>\n",
       "      <td>12.87</td>\n",
       "      <td>14.33</td>\n",
       "    </tr>\n",
       "    <tr>\n",
       "      <th>19</th>\n",
       "      <td>131.56</td>\n",
       "      <td>11.42</td>\n",
       "      <td>11.52</td>\n",
       "    </tr>\n",
       "    <tr>\n",
       "      <th>20</th>\n",
       "      <td>171.34</td>\n",
       "      <td>10.34</td>\n",
       "      <td>16.57</td>\n",
       "    </tr>\n",
       "    <tr>\n",
       "      <th>21</th>\n",
       "      <td>145.00</td>\n",
       "      <td>9.88</td>\n",
       "      <td>14.68</td>\n",
       "    </tr>\n",
       "    <tr>\n",
       "      <th>22</th>\n",
       "      <td>213.65</td>\n",
       "      <td>13.06</td>\n",
       "      <td>16.36</td>\n",
       "    </tr>\n",
       "    <tr>\n",
       "      <th>23</th>\n",
       "      <td>216.02</td>\n",
       "      <td>10.13</td>\n",
       "      <td>21.32</td>\n",
       "    </tr>\n",
       "    <tr>\n",
       "      <th>24</th>\n",
       "      <td>168.55</td>\n",
       "      <td>11.56</td>\n",
       "      <td>14.58</td>\n",
       "    </tr>\n",
       "    <tr>\n",
       "      <th>25</th>\n",
       "      <td>247.81</td>\n",
       "      <td>14.06</td>\n",
       "      <td>17.63</td>\n",
       "    </tr>\n",
       "    <tr>\n",
       "      <th>26</th>\n",
       "      <td>163.44</td>\n",
       "      <td>14.07</td>\n",
       "      <td>11.62</td>\n",
       "    </tr>\n",
       "    <tr>\n",
       "      <th>27</th>\n",
       "      <td>249.77</td>\n",
       "      <td>10.03</td>\n",
       "      <td>24.90</td>\n",
       "    </tr>\n",
       "    <tr>\n",
       "      <th>28</th>\n",
       "      <td>215.91</td>\n",
       "      <td>13.03</td>\n",
       "      <td>16.57</td>\n",
       "    </tr>\n",
       "    <tr>\n",
       "      <th>29</th>\n",
       "      <td>241.44</td>\n",
       "      <td>14.10</td>\n",
       "      <td>17.12</td>\n",
       "    </tr>\n",
       "    <tr>\n",
       "      <th>30</th>\n",
       "      <td>245.90</td>\n",
       "      <td>13.13</td>\n",
       "      <td>18.73</td>\n",
       "    </tr>\n",
       "    <tr>\n",
       "      <th>31</th>\n",
       "      <td>211.02</td>\n",
       "      <td>13.20</td>\n",
       "      <td>15.99</td>\n",
       "    </tr>\n",
       "    <tr>\n",
       "      <th>32</th>\n",
       "      <td>187.66</td>\n",
       "      <td>13.27</td>\n",
       "      <td>14.14</td>\n",
       "    </tr>\n",
       "    <tr>\n",
       "      <th>33</th>\n",
       "      <td>247.53</td>\n",
       "      <td>13.08</td>\n",
       "      <td>18.92</td>\n",
       "    </tr>\n",
       "    <tr>\n",
       "      <th>34</th>\n",
       "      <td>240.21</td>\n",
       "      <td>14.18</td>\n",
       "      <td>16.94</td>\n",
       "    </tr>\n",
       "    <tr>\n",
       "      <th>35</th>\n",
       "      <td>167.53</td>\n",
       "      <td>13.49</td>\n",
       "      <td>12.42</td>\n",
       "    </tr>\n",
       "    <tr>\n",
       "      <th>36</th>\n",
       "      <td>221.88</td>\n",
       "      <td>12.56</td>\n",
       "      <td>17.67</td>\n",
       "    </tr>\n",
       "    <tr>\n",
       "      <th>37</th>\n",
       "      <td>150.89</td>\n",
       "      <td>14.62</td>\n",
       "      <td>10.32</td>\n",
       "    </tr>\n",
       "    <tr>\n",
       "      <th>38</th>\n",
       "      <td>186.15</td>\n",
       "      <td>11.03</td>\n",
       "      <td>16.88</td>\n",
       "    </tr>\n",
       "    <tr>\n",
       "      <th>39</th>\n",
       "      <td>197.06</td>\n",
       "      <td>10.19</td>\n",
       "      <td>19.34</td>\n",
       "    </tr>\n",
       "  </tbody>\n",
       "</table>\n",
       "</div>"
      ],
      "text/plain": [
       "    marketing_budget(thousands)  actual_sales(millions)  %_sobre_ventas\n",
       "0                        187.86                   12.14           15.47\n",
       "1                        138.13                   12.33           11.20\n",
       "2                        177.89                    8.41           21.15\n",
       "3                        181.13                    8.90           20.35\n",
       "4                        151.50                   12.57           12.05\n",
       "5                        106.87                   11.30            9.46\n",
       "6                        160.94                   11.66           13.80\n",
       "7                        140.09                   10.93           12.82\n",
       "8                        132.58                   11.99           11.06\n",
       "9                        127.19                    9.44           13.47\n",
       "10                       179.32                    8.85           20.26\n",
       "11                       191.26                    8.01           23.88\n",
       "12                       110.85                    8.82           12.57\n",
       "13                       115.51                    9.90           11.67\n",
       "14                       132.42                    8.32           15.92\n",
       "15                       159.72                   10.21           15.64\n",
       "16                       187.15                   12.55           14.91\n",
       "17                       110.54                   11.32            9.77\n",
       "18                       184.42                   12.87           14.33\n",
       "19                       131.56                   11.42           11.52\n",
       "20                       171.34                   10.34           16.57\n",
       "21                       145.00                    9.88           14.68\n",
       "22                       213.65                   13.06           16.36\n",
       "23                       216.02                   10.13           21.32\n",
       "24                       168.55                   11.56           14.58\n",
       "25                       247.81                   14.06           17.63\n",
       "26                       163.44                   14.07           11.62\n",
       "27                       249.77                   10.03           24.90\n",
       "28                       215.91                   13.03           16.57\n",
       "29                       241.44                   14.10           17.12\n",
       "30                       245.90                   13.13           18.73\n",
       "31                       211.02                   13.20           15.99\n",
       "32                       187.66                   13.27           14.14\n",
       "33                       247.53                   13.08           18.92\n",
       "34                       240.21                   14.18           16.94\n",
       "35                       167.53                   13.49           12.42\n",
       "36                       221.88                   12.56           17.67\n",
       "37                       150.89                   14.62           10.32\n",
       "38                       186.15                   11.03           16.88\n",
       "39                       197.06                   10.19           19.34"
      ]
     },
     "execution_count": 74,
     "metadata": {},
     "output_type": "execute_result"
    }
   ],
   "source": [
    "sales['%_sobre_ventas'] = ((sales['marketing_budget(thousands)']/ 100) / sales['actual_sales(millions)'] * 100).round(2)\n",
    "\n",
    "sales.head(40)"
   ]
  },
  {
   "cell_type": "markdown",
   "metadata": {},
   "source": [
    "Ploteamos con seaborns\n"
   ]
  },
  {
   "cell_type": "code",
   "execution_count": 14,
   "metadata": {},
   "outputs": [
    {
     "data": {
      "image/png": "[encoded data removed]",
      "text/plain": [
       "<Figure size 504x504 with 3 Axes>"
      ]
     },
     "metadata": {},
     "output_type": "display_data"
    }
   ],
   "source": [
    "import seaborn as sns\n",
    "sns.set_theme(style=\"darkgrid\")\n",
    "\n",
    "g = sns.jointplot(x=\"actual_sales(millions)\", y=\"marketing_budget(thousands)\", data=sales,\n",
    "                  kind=\"reg\", truncate=False,\n",
    "                  xlim=(0,27), ylim=(0, 400),\n",
    "                  color=\"m\", height=7)"
   ]
  },
  {
   "cell_type": "markdown",
   "metadata": {},
   "source": [
    "### Analizamos la distribucion de los % sobre ventas\n",
    "\n",
    "Obtenemos que el bugget es en promedio un 16% y que la distribucion se aproxima a una distr. Normal"
   ]
  },
  {
   "cell_type": "code",
   "execution_count": 45,
   "metadata": {},
   "outputs": [
    {
     "name": "stderr",
     "output_type": "stream",
     "text": [
      "c:\\Users\\LENOVO\\anaconda3\\lib\\site-packages\\seaborn\\distributions.py:2619: FutureWarning: `distplot` is a deprecated function and will be removed in a future version. Please adapt your code to use either `displot` (a figure-level function with similar flexibility) or `histplot` (an axes-level function for histograms).\n",
      "  warnings.warn(msg, FutureWarning)\n"
     ]
    },
    {
     "name": "stdout",
     "output_type": "stream",
     "text": [
      "count    222.000000\n",
      "mean      16.173423\n",
      "std        2.971890\n",
      "min        9.110000\n",
      "25%       13.955000\n",
      "50%       16.195000\n",
      "75%       17.860000\n",
      "max       24.900000\n",
      "Name: %_sobre_ventas, dtype: float64\n"
     ]
    },
    {
     "data": {
      "image/png": "[encoded data removed]",
      "text/plain": [
       "<Figure size 432x288 with 1 Axes>"
      ]
     },
     "metadata": {},
     "output_type": "display_data"
    }
   ],
   "source": [
    "sns.distplot( a=sales['%_sobre_ventas'], hist=True, kde=True, rug=False )\n",
    "\n",
    "print(sales.describe()['%_sobre_ventas'])"
   ]
  },
  {
   "cell_type": "markdown",
   "metadata": {},
   "source": [
    "Ahora vamos a intentar pronosticar en funcion de los datos cual sería el presupuesto ideal dado el valor de las ventas actuales"
   ]
  },
  {
   "cell_type": "code",
   "execution_count": 51,
   "metadata": {},
   "outputs": [],
   "source": [
    "from sklearn.linear_model import LinearRegression"
   ]
  },
  {
   "cell_type": "code",
   "execution_count": 53,
   "metadata": {},
   "outputs": [
    {
     "data": {
      "text/plain": [
       "LinearRegression()"
      ]
     },
     "execution_count": 53,
     "metadata": {},
     "output_type": "execute_result"
    }
   ],
   "source": [
    "X = sales['actual_sales(millions)'].values.reshape(-1,1)\n",
    "y = sales['marketing_budget(thousands)']\n",
    "\n",
    "model = LinearRegression()\n",
    "\n",
    "model.fit(X,y)\n",
    "\n"
   ]
  },
  {
   "cell_type": "code",
   "execution_count": 62,
   "metadata": {},
   "outputs": [
    {
     "name": "stdout",
     "output_type": "stream",
     "text": [
      "La función para predecir será: \n",
      " Budget a Predecir =  [14.15] * Ventas totales + 30.45\n"
     ]
    }
   ],
   "source": [
    "print(f'La función para predecir será: \\n Budget a Predecir =  {model.coef_.round(2)} * Ventas totales + {model.intercept_.round(2)}')"
   ]
  },
  {
   "cell_type": "markdown",
   "metadata": {},
   "source": [
    "##### Chequeo con un valor de referencia en el index 22"
   ]
  },
  {
   "cell_type": "code",
   "execution_count": 83,
   "metadata": {},
   "outputs": [
    {
     "name": "stdout",
     "output_type": "stream",
     "text": [
      "    marketing_budget(thousands)  actual_sales(millions)  %_sobre_ventas\n",
      "22                       213.65                   13.06           16.36\n",
      "Predicción = [215.249] \n",
      " Residuo = [1.599]\n"
     ]
    }
   ],
   "source": [
    "\n",
    "print(sales[sales.index == 22])\n",
    "\n",
    "pred = model.coef_.round(2) * 13.06 + model.intercept_.round(2)\n"
   ]
  },
  {
   "cell_type": "code",
   "execution_count": 93,
   "metadata": {},
   "outputs": [
    {
     "data": {
      "text/plain": [
       "0.7001"
      ]
     },
     "execution_count": 93,
     "metadata": {},
     "output_type": "execute_result"
    }
   ],
   "source": [
    "from sklearn.metrics import r2_score\n",
    "\n",
    "y_true = sales['marketing_budget(thousands)']\n",
    "y_pred = model.predict(X)\n",
    "\n",
    "R2 = r2_score(y_true, y_pred).round(4)\n",
    "\n",
    "R2\n",
    "\n",
    "#El modelo tiene un ajuste de 0.7"
   ]
  }
 ],
 "metadata": {
  "kernelspec": {
   "display_name": "Python 3.9.12 ('base')",
   "language": "python",
   "name": "python3"
  },
  "language_info": {
   "codemirror_mode": {
    "name": "ipython",
    "version": 3
   },
   "file_extension": ".py",
   "mimetype": "text/x-python",
   "name": "python",
   "nbconvert_exporter": "python",
   "pygments_lexer": "ipython3",
   "version": "3.9.12"
  },
  "orig_nbformat": 4,
  "vscode": {
   "interpreter": {
    "hash": "7679c2132d3f6ce38c9df14d554b39c06862b36a4e6689c81f9ae15bd0911d7d"
   }
  }
 },
 "nbformat": 4,
 "nbformat_minor": 2
}
