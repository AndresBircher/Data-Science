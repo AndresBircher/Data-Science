{
 "cells": [
  {
   "cell_type": "markdown",
   "metadata": {},
   "source": [
    "# INDIVIDUAL ASSIGNMENT: DATA ANALYSIS\n",
    "\n",
    "## THE NIKE KAPERNICK CAMPAIGN\n",
    "\n",
    "### GUIDING RESOURCES AND HELPER FUNCTIONS\n",
    "\n",
    "This notebook contains a set of references, utils and predefined functions that are intended to guide the student through the process of tackling the individual assignment.\n",
    "\n",
    "Materials included here should serve as an initial guideline to preprocess the dataset so that insights can be derived. Bear in mind that complementary steps should be applied in order to perform a full analysis. **Helper functions provided should not be necessarily applied in the order they are given and the student has full flexibility to decide whether to use none of them, some of them or all of them, in any preferred order. Materials are primarily for those students with little to no prior coding experience**.\n",
    "\n",
    "#### Libraries used\n",
    "\n",
    "- [Pandas](https://pandas.pydata.org/): a fast, powerful, flexible and easy to use open source data analysis and manipulation tool, built on top of the Python programming language. We recommend the dataset provided is loaded as a Pandas Dataframe to make data manipulation easier.\n",
    "- [Natural Language Toolkit](https://www.nltk.org/): a leading platform for building Python programs to work with human language data. From NLTK, we'll recommend some useful methods for tokenizing, lemmatizing, removing stop words, and some more.\n",
    "- [Scikit Learn](https://scikit-learn.org/stable/): a set of simple and efficient tools for predictive data analysis, built on top of NumPy, SciPy, and matplotlib. Even when predictive analysis is out of the scope of this assignment, scikit learn provides some useful data transformations, some of which might be helpful here.\n",
    "- [Matplotlib](https://matplotlib.org/): a comprehensive library for creating static, animated, and interactive visualizations in Python. The student is expected to derive and visually present insights from the dataset shared.\n",
    "- [TextBlob](https://textblob.readthedocs.io/en/dev/): a Python library for processing textual data. Particularly easy to use and helpful for performing sentiment and subjectivity analysis.\n",
    "\n",
    "#### Useful links\n",
    "\n",
    "- [General NLP definitions, the distinction between corpus and document](https://moj-analytical-services.github.io/NLP-guidance/Glossary.html)\n",
    "- [Basics on Pandas Dataframes](https://pandas.pydata.org/pandas-docs/stable/user_guide/10min.html)\n",
    "    - [Reading a CSV with Pandas](https://pandas.pydata.org/docs/reference/api/pandas.read_csv.html)\n",
    "- [Basics on NLTK](https://lost-contact.mit.edu/afs/cs.pitt.edu/projects/nltk/docs/tutorial/introduction/nochunks.html)\n",
    "- Common Text Preprocessing operations:\n",
    "    - [Tokenization](https://nlp.stanford.edu/IR-book/html/htmledition/tokenization-1.html)\n",
    "    - [Removing Stop Words](https://nlp.stanford.edu/IR-book/html/htmledition/dropping-common-terms-stop-words-1.html)\n",
    "    - [Stemming & Lemmatization](https://nlp.stanford.edu/IR-book/html/htmledition/stemming-and-lemmatization-1.html)\n",
    "- [Basics on Matplotlib](https://matplotlib.org/stable/tutorials/index.html)\n",
    "- [How TextBlob works?](https://planspace.org/20150607-textblob_sentiment/)\n"
   ]
  },
  {
   "cell_type": "markdown",
   "metadata": {},
   "source": [
    "#### Importing libraries\n",
    "\n",
    "The first code cell will be used to import all the libraries described above."
   ]
  },
  {
   "cell_type": "code",
   "execution_count": 20,
   "metadata": {},
   "outputs": [
    {
     "name": "stderr",
     "output_type": "stream",
     "text": [
      "[nltk_data] Downloading package stopwords to\n",
      "[nltk_data]     C:\\Users\\LENOVO\\AppData\\Roaming\\nltk_data...\n",
      "[nltk_data]   Package stopwords is already up-to-date!\n",
      "[nltk_data] Downloading package wordnet to\n",
      "[nltk_data]     C:\\Users\\LENOVO\\AppData\\Roaming\\nltk_data...\n",
      "[nltk_data]   Package wordnet is already up-to-date!\n",
      "[nltk_data] Downloading package punkt to\n",
      "[nltk_data]     C:\\Users\\LENOVO\\AppData\\Roaming\\nltk_data...\n",
      "[nltk_data]   Package punkt is already up-to-date!\n",
      "[nltk_data] Downloading package omw-1.4 to\n",
      "[nltk_data]     C:\\Users\\LENOVO\\AppData\\Roaming\\nltk_data...\n",
      "[nltk_data]   Package omw-1.4 is already up-to-date!\n"
     ]
    }
   ],
   "source": [
    "# Pandas\n",
    "import pandas as pd\n",
    "import dataframe_image as dfi\n",
    "\n",
    "#String\n",
    "import string\n",
    "import re\n",
    "# NLTK\n",
    "import nltk\n",
    "nltk.download('stopwords') # once dependencies are locally downloaded, this line of code is no longer needed\n",
    "from nltk.corpus import stopwords\n",
    "nltk.download('wordnet') # once dependencies are locally downloaded, this line of code is no longer needed\n",
    "nltk.download('punkt') # once dependencies are locally downloaded, this line of code is no longer needed\n",
    "nltk.download('omw-1.4') # I need to the lemmatization.\n",
    "from nltk.stem import WordNetLemmatizer\n",
    "from nltk.tokenize import TweetTokenizer # Usamos este en lugar del de arriba que esta optimizado para Twits\n",
    "\n",
    "# Scikit-Learn\n",
    "from sklearn.feature_extraction.text import CountVectorizer\n",
    "\n",
    "# Matplotlib\n",
    "import matplotlib.pyplot as plt\n",
    "import seaborn as sns\n",
    "\n",
    "# TextBlob\n",
    "from textblob import TextBlob"
   ]
  },
  {
   "cell_type": "markdown",
   "metadata": {},
   "source": [
    "### Text preprocessing functions\n",
    "\n",
    "The following functions can help with the first steps when dealing with a corpus of text documents:"
   ]
  },
  {
   "cell_type": "code",
   "execution_count": 21,
   "metadata": {},
   "outputs": [],
   "source": [
    "from distutils.ccompiler import new_compiler\n",
    "\n",
    "\n",
    "def lowercase(corpus):\n",
    "    \"\"\"\n",
    "    Turn a dataframe column made of text into lowercase.\n",
    "    \n",
    "    Args:\n",
    "        corpus (Pandas Series): the column to transform to lowercase.\n",
    "    \n",
    "    Returns:\n",
    "        Pandas Series    \n",
    "    \"\"\"\n",
    "    new_corpus = corpus.str.lower()\n",
    "    return new_corpus\n",
    "\n",
    "\n",
    "\n",
    "def remove_punct(corpus):\n",
    "    \"\"\" \n",
    "    Remove Punctuation from twitter text\n",
    "\n",
    "    Args: \n",
    "        corpus (Pandas Data Series): The columns to remove puntuation \n",
    "    \n",
    "    Returns:\n",
    "        Pandas Series (I hope)\n",
    "    \n",
    "    \n",
    "        \"\"\"\n",
    "    def remove_punt_sentence(text):   # This function is for remove the puntuation,numbers an URL in a specific word in the sentece\n",
    "        text = re.sub(r\"(?:\\@|https?\\://)\\S+\", \"\", text) #Remove URL and twitter @mentions\n",
    "        text  = \"\".join([char for char in text if char not in string.punctuation])\n",
    "        text = re.sub('[0-9]+', '', text) #Remove numbers \n",
    "        # text = re.sub(r'http\\S+', '', text) #Remove URL\n",
    "        return text\n",
    "    \n",
    "    corpus_without_punct = corpus.apply(lambda x: remove_punt_sentence(x)) # I iterate for each sentence in the Pandas Series, removing the puntuaction. \n",
    "    \n",
    "    return corpus_without_punct\n",
    "\n",
    "\n",
    "\n",
    "def remove_stop_words_eng(corpus):\n",
    "    \"\"\"\n",
    "    Removes common English stop words from a corpus.\n",
    "    \n",
    "    Args:\n",
    "        corpus (Pandas Series): the column to remove stop words.\n",
    "        \n",
    "    Returns:\n",
    "        Pandas Series\n",
    "    \"\"\"\n",
    "    stop = stopwords.words('english')\n",
    "    new_corpus = corpus.apply(lambda x: ' '.join([item for item in x.split() if item not in stop]))\n",
    "    \n",
    "    return new_corpus\n",
    "\n",
    "\n",
    "def lemma(document):\n",
    "    \"\"\"\n",
    "    Lemmatizes an individual document within a corpus.\n",
    "    \n",
    "    Args:\n",
    "        document (str): a string document on which lemmatization is to be applied.\n",
    "        \n",
    "    Returns:\n",
    "        str\n",
    "        \n",
    "    Usage Example:\n",
    "        df['some text column'] = df['some text column'].apply(lambda text: lemma(text))\n",
    "    \"\"\"\n",
    "    lemmatizer = WordNetLemmatizer()\n",
    "    word_list = nltk.word_tokenize(document)\n",
    "    lemmatized_output = ' '.join([lemmatizer.lemmatize(w) for w in word_list])\n",
    "    \n",
    "    return lemmatized_output\n",
    "\n",
    "\n",
    "def token(corpus):\n",
    "    \"\"\"\n",
    "    Tokenizes and removes punctuation from a corpus.\n",
    "    \n",
    "    Args:\n",
    "        corpus (Pandas Series): the column to tokenize.\n",
    "    \n",
    "    Returns:\n",
    "        Pandas Series\n",
    "    \"\"\"\n",
    "    tokenizer = TweetTokenizer()              #nltk.RegexpTokenizer(r\"\\w+\")    \n",
    "    new_corpus = corpus.apply(lambda text: tokenizer.tokenize(text))\n",
    "    \n",
    "    return new_corpus"
   ]
  },
  {
   "cell_type": "markdown",
   "metadata": {},
   "source": [
    "#### Further cleansing and plotting\n",
    "\n",
    "Below functions can be helpful for extracting commonly mentioned words or topics. Initial insights could be derived through using these functions:"
   ]
  },
  {
   "cell_type": "code",
   "execution_count": 22,
   "metadata": {},
   "outputs": [],
   "source": [
    "def get_top_n_ngrams(corpus, n=10, type ='unigram'):\n",
    "    \"\"\"\n",
    "    Get top n n-grams by their ocurrence in a corpus of text documents.\n",
    "    \n",
    "    Args:\n",
    "        corpus (Pandas Series): a dataframe column made of individual text documents.\n",
    "        n (int): the number of top ocurrences to return.\n",
    "        type (str): n-grams to retrieve, 'unigram', 'bigram' and 'trigram' are accepted.\n",
    "    \n",
    "    Returns\n",
    "        List of tuples (n-gram, ocurrences)\n",
    "    \"\"\"\n",
    "    \n",
    "    if type == 'unigram':\n",
    "        vec = CountVectorizer().fit(corpus)\n",
    "    elif type == 'bigram':\n",
    "        vec = CountVectorizer(ngram_range=(2, 2)).fit(corpus)\n",
    "    elif type == 'trigram':\n",
    "        vec = CountVectorizer(ngram_range=(3, 3)).fit(corpus)\n",
    "    \n",
    "    bag_of_words = vec.transform(corpus)\n",
    "    sum_words = bag_of_words.sum(axis=0) \n",
    "    words_freq = [(word, sum_words[0, idx]) for word, idx in vec.vocabulary_.items()]\n",
    "    words_freq = sorted(words_freq, key = lambda x: x[1], reverse=True)\n",
    "    \n",
    "    return words_freq[:n]\n",
    "\n",
    "\n",
    "def plot_n_grams(top_n_ngrams, col_name, title):\n",
    "    \"\"\"\n",
    "    Plots top n n-grams in descending order by number of ocurrences along the corpus.\n",
    "    \n",
    "    Args:\n",
    "        top_n_ngrams (list): a list of tuples of the kind (n-gram, ocurrences).\n",
    "        col_name (str): name to assign to the text variable.\n",
    "        title (str): chart title.\n",
    "    \"\"\"\n",
    "    data = pd.DataFrame(top_n_ngrams, columns = [col_name , 'Count'])\n",
    "    fig = plt.figure(figsize = (20,8),edgecolor='grey')\n",
    "    viz = data.groupby(col_name).sum()['Count'].sort_values(ascending=False).plot(kind='bar', title=title, color='darkred')\n",
    "    \n",
    "    return viz"
   ]
  },
  {
   "cell_type": "markdown",
   "metadata": {},
   "source": [
    "#### Performing sentiment analysis\n",
    "\n",
    "Below is a useful function to explore polarity and subjectivity within documents:"
   ]
  },
  {
   "cell_type": "code",
   "execution_count": 23,
   "metadata": {},
   "outputs": [],
   "source": [
    "def compute_sentiment(corpus, kind='polarity'):\n",
    "    \"\"\"\n",
    "    Computes sentiment analysis over a corpus.\n",
    "    \n",
    "    Args:\n",
    "        corpus (Pandas Series): the column on which sentiment analysis is to be applied.\n",
    "        kind (str), default 'polarity': a string indicating which sentiment attribute to retrieve from 'polarity' or 'subjectivity'.\n",
    "        \n",
    "    Returns:\n",
    "        Pandas Series\n",
    "    \"\"\"\n",
    "    \n",
    "    if kind == 'polarity':\n",
    "        sentiment = corpus.apply(lambda text: TextBlob(text).sentiment.polarity)\n",
    "    elif kind == 'subjectivity':\n",
    "        sentiment = corpus.apply(lambda text: TextBlob(text).sentiment.subjectivity)\n",
    "    \n",
    "    return sentiment "
   ]
  },
  {
   "cell_type": "markdown",
   "metadata": {},
   "source": [
    "### Reading the Data"
   ]
  },
  {
   "cell_type": "code",
   "execution_count": 24,
   "metadata": {},
   "outputs": [
    {
     "name": "stdout",
     "output_type": "stream",
     "text": [
      "Index(['tweet_lenght', 'tweet_favs_count', 'tweet_full_text', 'tweet_id',\n",
      "       'tweet_is_quote_bool', 'tweet_lang', 'tweet_rts_count', 'user_bio',\n",
      "       'user_favs_count', 'user_followers_count', 'user_id', 'user_name',\n",
      "       'user_statuses_count', 'user_verified'],\n",
      "      dtype='object')\n",
      "Tamaño dataset : (11418, 14)\n"
     ]
    },
    {
     "data": {
      "text/html": [
       "<div>\n",
       "<style scoped>\n",
       "    .dataframe tbody tr th:only-of-type {\n",
       "        vertical-align: middle;\n",
       "    }\n",
       "\n",
       "    .dataframe tbody tr th {\n",
       "        vertical-align: top;\n",
       "    }\n",
       "\n",
       "    .dataframe thead th {\n",
       "        text-align: right;\n",
       "    }\n",
       "</style>\n",
       "<table border=\"1\" class=\"dataframe\">\n",
       "  <thead>\n",
       "    <tr style=\"text-align: right;\">\n",
       "      <th></th>\n",
       "      <th>tweet_lenght</th>\n",
       "      <th>tweet_favs_count</th>\n",
       "      <th>tweet_full_text</th>\n",
       "      <th>tweet_id</th>\n",
       "      <th>tweet_is_quote_bool</th>\n",
       "      <th>tweet_lang</th>\n",
       "      <th>tweet_rts_count</th>\n",
       "      <th>user_bio</th>\n",
       "      <th>user_favs_count</th>\n",
       "      <th>user_followers_count</th>\n",
       "      <th>user_id</th>\n",
       "      <th>user_name</th>\n",
       "      <th>user_statuses_count</th>\n",
       "      <th>user_verified</th>\n",
       "    </tr>\n",
       "  </thead>\n",
       "  <tbody>\n",
       "    <tr>\n",
       "      <th>0</th>\n",
       "      <td>166</td>\n",
       "      <td>0</td>\n",
       "      <td>White ppl almost killing themselves just to bu...</td>\n",
       "      <td>x1037852811340464128</td>\n",
       "      <td>False</td>\n",
       "      <td>en</td>\n",
       "      <td>0</td>\n",
       "      <td>NaN</td>\n",
       "      <td>2035</td>\n",
       "      <td>559</td>\n",
       "      <td>x292503552</td>\n",
       "      <td>Dynasdee</td>\n",
       "      <td>44042</td>\n",
       "      <td>False</td>\n",
       "    </tr>\n",
       "    <tr>\n",
       "      <th>1</th>\n",
       "      <td>23</td>\n",
       "      <td>0</td>\n",
       "      <td>@madmoneymill Nike’s all I wear &lt;U+0001F937&gt;&lt;U...</td>\n",
       "      <td>x1037852910137237509</td>\n",
       "      <td>False</td>\n",
       "      <td>en</td>\n",
       "      <td>1</td>\n",
       "      <td>Stay humble, and strive. USMC veteran. LLL©&lt;U+...</td>\n",
       "      <td>33523</td>\n",
       "      <td>227</td>\n",
       "      <td>x935742289225355264</td>\n",
       "      <td>The_Phenom07</td>\n",
       "      <td>25593</td>\n",
       "      <td>False</td>\n",
       "    </tr>\n",
       "    <tr>\n",
       "      <th>2</th>\n",
       "      <td>29</td>\n",
       "      <td>2</td>\n",
       "      <td>@johnrich @Nike Do the same with your socks.. ...</td>\n",
       "      <td>x1037852694541520896</td>\n",
       "      <td>False</td>\n",
       "      <td>en</td>\n",
       "      <td>0</td>\n",
       "      <td>NaN</td>\n",
       "      <td>12</td>\n",
       "      <td>0</td>\n",
       "      <td>x481584622</td>\n",
       "      <td>guadalupelineck</td>\n",
       "      <td>17</td>\n",
       "      <td>False</td>\n",
       "    </tr>\n",
       "    <tr>\n",
       "      <th>3</th>\n",
       "      <td>12</td>\n",
       "      <td>1</td>\n",
       "      <td>@SNFonNBC I blame NIKE</td>\n",
       "      <td>x1037852896593735681</td>\n",
       "      <td>False</td>\n",
       "      <td>en</td>\n",
       "      <td>0</td>\n",
       "      <td>NaN</td>\n",
       "      <td>1757</td>\n",
       "      <td>75</td>\n",
       "      <td>x68105970</td>\n",
       "      <td>Jreeezy2000</td>\n",
       "      <td>5946</td>\n",
       "      <td>False</td>\n",
       "    </tr>\n",
       "    <tr>\n",
       "      <th>4</th>\n",
       "      <td>280</td>\n",
       "      <td>20</td>\n",
       "      <td>@CBSNews hey hey hey,\\r\\nALL COLLEGES MATTER.\\...</td>\n",
       "      <td>x1037852654930673664</td>\n",
       "      <td>False</td>\n",
       "      <td>en</td>\n",
       "      <td>3</td>\n",
       "      <td>Business/Data Analyst, Educator, Authoress, AO...</td>\n",
       "      <td>12713</td>\n",
       "      <td>491</td>\n",
       "      <td>x4220625275</td>\n",
       "      <td>woodson_kb</td>\n",
       "      <td>18269</td>\n",
       "      <td>False</td>\n",
       "    </tr>\n",
       "  </tbody>\n",
       "</table>\n",
       "</div>"
      ],
      "text/plain": [
       "   tweet_lenght  tweet_favs_count  \\\n",
       "0           166                 0   \n",
       "1            23                 0   \n",
       "2            29                 2   \n",
       "3            12                 1   \n",
       "4           280                20   \n",
       "\n",
       "                                     tweet_full_text              tweet_id  \\\n",
       "0  White ppl almost killing themselves just to bu...  x1037852811340464128   \n",
       "1  @madmoneymill Nike’s all I wear <U+0001F937><U...  x1037852910137237509   \n",
       "2  @johnrich @Nike Do the same with your socks.. ...  x1037852694541520896   \n",
       "3                             @SNFonNBC I blame NIKE  x1037852896593735681   \n",
       "4  @CBSNews hey hey hey,\\r\\nALL COLLEGES MATTER.\\...  x1037852654930673664   \n",
       "\n",
       "   tweet_is_quote_bool tweet_lang  tweet_rts_count  \\\n",
       "0                False         en                0   \n",
       "1                False         en                1   \n",
       "2                False         en                0   \n",
       "3                False         en                0   \n",
       "4                False         en                3   \n",
       "\n",
       "                                            user_bio  user_favs_count  \\\n",
       "0                                                NaN             2035   \n",
       "1  Stay humble, and strive. USMC veteran. LLL©<U+...            33523   \n",
       "2                                                NaN               12   \n",
       "3                                                NaN             1757   \n",
       "4  Business/Data Analyst, Educator, Authoress, AO...            12713   \n",
       "\n",
       "   user_followers_count              user_id        user_name  \\\n",
       "0                   559           x292503552         Dynasdee   \n",
       "1                   227  x935742289225355264     The_Phenom07   \n",
       "2                     0           x481584622  guadalupelineck   \n",
       "3                    75            x68105970      Jreeezy2000   \n",
       "4                   491          x4220625275       woodson_kb   \n",
       "\n",
       "   user_statuses_count  user_verified  \n",
       "0                44042          False  \n",
       "1                25593          False  \n",
       "2                   17          False  \n",
       "3                 5946          False  \n",
       "4                18269          False  "
      ]
     },
     "execution_count": 24,
     "metadata": {},
     "output_type": "execute_result"
    }
   ],
   "source": [
    "df_tw =  pd.read_csv('G:\\Mi unidad\\MiM\\Modulo 3\\Costumer Behaviur\\Individual Assignment\\_tweets_nikekaepernick.csv')\n",
    "\n",
    "#df_stroke.drop(['CustomerID'], axis=1, inplace=True)\n",
    "#I remove the autoincremental values from the dataset. I use the natural index\n",
    "\n",
    "print(df_tw.columns)\n",
    "print(f'Tamaño dataset : {df_tw.shape}')\n",
    "df_tw.head(5)"
   ]
  },
  {
   "cell_type": "code",
   "execution_count": 25,
   "metadata": {},
   "outputs": [
    {
     "name": "stdout",
     "output_type": "stream",
     "text": [
      "features with na values: \n",
      " user_bio                1490\n",
      "tweet_lenght               0\n",
      "tweet_favs_count           0\n",
      "tweet_full_text            0\n",
      "tweet_id                   0\n",
      "tweet_is_quote_bool        0\n",
      "tweet_lang                 0\n",
      "tweet_rts_count            0\n",
      "user_favs_count            0\n",
      "user_followers_count       0\n",
      "user_id                    0\n",
      "user_name                  0\n",
      "user_statuses_count        0\n",
      "user_verified              0\n",
      "dtype: int64\n"
     ]
    }
   ],
   "source": [
    "na_values = pd.DataFrame(columns=['features','NA values'])\n",
    "\n",
    "na_values = pd.concat([df_tw.isna().sum().sort_values(ascending=False)])\n",
    "\n",
    "features = na_values[22:]\n",
    "\n",
    "print(f'features with na values: \\n {na_values[0:15]}')\n"
   ]
  },
  {
   "cell_type": "code",
   "execution_count": 26,
   "metadata": {},
   "outputs": [
    {
     "data": {
      "text/plain": [
       "0        White ppl almost killing themselves just to bu...\n",
       "1        @madmoneymill Nike’s all I wear <U+0001F937><U...\n",
       "2        @johnrich @Nike Do the same with your socks.. ...\n",
       "3                                   @SNFonNBC I blame NIKE\n",
       "4        @CBSNews hey hey hey,\\r\\nALL COLLEGES MATTER.\\...\n",
       "                               ...                        \n",
       "11413    We have what we need.  #JustDoIt https://t.co/...\n",
       "11414    Even the best can take an L!!\\n\\n#MGK #RapDevi...\n",
       "11415    Serena! All Serena, 9 of the last 10 games. If...\n",
       "11416    @serenawilliams #USOpen2018 Tearing it up your...\n",
       "11417    WOW the Nike #Justdoit add they played before ...\n",
       "Name: tweet_full_text, Length: 11418, dtype: object"
      ]
     },
     "execution_count": 26,
     "metadata": {},
     "output_type": "execute_result"
    }
   ],
   "source": [
    "df_tw['tweet_full_text']"
   ]
  },
  {
   "cell_type": "markdown",
   "metadata": {},
   "source": [
    "### Data Cleaning\n",
    "- Functions"
   ]
  },
  {
   "cell_type": "code",
   "execution_count": 105,
   "metadata": {},
   "outputs": [],
   "source": [
    "#Cleaninng a corpus\n",
    "def clean_and_tokenize_df(corpus):\n",
    "    \n",
    "    low_corpus = lowercase(corpus)\n",
    "\n",
    "    stop_low_corpus = remove_stop_words_eng(low_corpus)\n",
    "\n",
    "    punct_stop_low_corpus = remove_punct(stop_low_corpus)\n",
    "\n",
    "    lemma_punct_stop_low_corpus = punct_stop_low_corpus.apply(lambda text: lemma(text))\n",
    "\n",
    "    final_corpus = token(lemma_punct_stop_low_corpus)\n",
    "\n",
    "    return final_corpus\n",
    "\n",
    "#I really use that for cleaning the corpus\n",
    "\n",
    "def clean_df_for_sentiment(corpus):\n",
    "    '''\n",
    "    function for cleaning corpus inside of function of text analysis.\n",
    "    '''\n",
    "    \n",
    "    low_corpus = lowercase(corpus)\n",
    "\n",
    "    stop_low_corpus = remove_stop_words_eng(low_corpus)\n",
    "\n",
    "    punct_stop_low_corpus = remove_punct(stop_low_corpus)\n",
    "\n",
    "    lemma_punct_stop_low_corpus = punct_stop_low_corpus.apply(lambda text: lemma(text))\n",
    "\n",
    "    return lemma_punct_stop_low_corpus"
   ]
  },
  {
   "cell_type": "markdown",
   "metadata": {},
   "source": [
    "### Vectorization  (functions)"
   ]
  },
  {
   "cell_type": "code",
   "execution_count": 28,
   "metadata": {},
   "outputs": [],
   "source": [
    "# Tokenizano palabra por palabra no consigo resultado\n",
    "\n",
    "def vector_for_word(phrase_or_word, corpus,cant_gram='unigram'):\n",
    "    '''\n",
    "    choose a word or phase in the corpus withot preproccessing \n",
    "    and use the cant_gram argument to choose how many work conected are you looking for)\n",
    "    example for work justdoit I looking for phases of two works popular in that corpus:\n",
    "    \n",
    "    vector_for_word('justdoit',corpus,'bigram')\n",
    "\n",
    "    you can choose for cant_gram the follower arguments: ['unigram','bigram','trigram']\n",
    "    '''\n",
    "    if phrase_or_word != \"\":\n",
    "        corpus = df_tw['tweet_full_text']\n",
    "        #Chossing index for the word selected\n",
    "        df_index= corpus.str.contains(phrase_or_word)\n",
    "        filter_corpus = corpus[df_index]\n",
    "    else:\n",
    "        filter_corpus = corpus\n",
    "\n",
    "    df_tw_clean = clean_df_for_sentiment(filter_corpus)\n",
    "\n",
    "    ngrams = get_top_n_ngrams(df_tw_clean,20,type=cant_gram) # You can use unigram, bigram,trigram\n",
    "\n",
    "    return plot_n_grams(ngrams, col_name=ngrams[0],title='Most frequent topics in twitter')\n"
   ]
  },
  {
   "cell_type": "markdown",
   "metadata": {},
   "source": [
    "### Sentiment Analisis (functions)"
   ]
  },
  {
   "cell_type": "code",
   "execution_count": 29,
   "metadata": {},
   "outputs": [],
   "source": [
    "\n",
    "\n",
    "\n",
    "def text_sentiment(word,corpus):\n",
    "    \"\"\"\"\n",
    "    Choose a word and run the text analysis. \n",
    "\n",
    "    You have a second argument for your unprocessed corpus.\n",
    "    \n",
    "    \"\"\"\n",
    "    print(f'This text Analisis running on Nike Twitts is talking about: {word}')\n",
    "\n",
    "    #Preprocessing corpus for text analisis \n",
    "    df_tw_clean = clean_df_for_sentiment(corpus)\n",
    "\n",
    "    #Chossing index for the word selected\n",
    "    nike_index= df_tw_clean.str.contains(word)\n",
    "    nike_df = df_tw_clean[nike_index]\n",
    "\n",
    "    # print(df_tw_clean.shape)\n",
    "    # print(nike_df.shape)\n",
    "\n",
    "    #Historgram\n",
    "\n",
    "    nike_sentiment = compute_sentiment(nike_df)\n",
    "    histogram = plt.hist(nike_sentiment, bins=50)\n",
    "\n",
    "    \n",
    "    #Result Matrix \n",
    "    negative = nike_df[nike_sentiment < 0].count()\n",
    "    neutral = nike_df[nike_sentiment == 0].count()\n",
    "    positive = nike_df[nike_sentiment > 0].count()\n",
    "\n",
    "    nike_result = pd.DataFrame([negative,neutral,positive], index = ['Negative','Neutral','Positive'], columns = ['Comments Polarity'])\n",
    "    nike_result['Porcentage'] = (nike_result['Comments Polarity'] / nike_result['Comments Polarity'].sum()).round(2)\n",
    "    nike_result['Porcentage'] = [str(i*100) +'%' for i in nike_result['Porcentage']]\n",
    "\n",
    "\n",
    "    #Dataframe with the preproceced text and sentiment analisis\n",
    "    \n",
    "    df_corpus_sentiment = pd.DataFrame(nike_df)\n",
    "    df_corpus_sentiment.columns = ['Corpus']\n",
    "    nike_sentiment_s = pd.Series(nike_sentiment, dtype=float)\n",
    "    df_corpus_sentiment['sentiment'] = nike_sentiment_s\n",
    "    \n",
    "    \n",
    "    #display(df_corpus_sentiment.head())\n",
    "    print(f'Summarize for selection the and text analisis')\n",
    "    display(nike_result)#dfi.export(nike_result, 'df_result.png')\n",
    "    return df_corpus_sentiment\n",
    "\n",
    "def message(df_corpus_sentiment,sentiment):\n",
    "    '''\n",
    "    This funtion print the five positive or negative reviews\n",
    "    '''\n",
    "    if sentiment == 'positive':\n",
    "        print('5 five best message')\n",
    "        for i in range(5): \n",
    "            text = df_corpus_sentiment.sort_values(by='sentiment',ascending=False).head().iloc[i,0]\n",
    "            score= df_corpus_sentiment.sort_values(by='sentiment',ascending=False).head().iloc[i,1]\n",
    "            print(f'{text} \\n Score:{score}')\n",
    "            print('---------------------------------------------------------------------------')\n",
    "    elif sentiment =='negative':\n",
    "        print('5 five most negative messages')\n",
    "        for i in range(5): \n",
    "            text = df_corpus_sentiment.sort_values(by='sentiment',ascending=True).head().iloc[i,0]\n",
    "            score= df_corpus_sentiment.sort_values(by='sentiment',ascending=True).head().iloc[i,1]\n",
    "            print(f'{text} \\n Score:{score}')\n",
    "            print('---------------------------------------------------------------------------')\n",
    "    else:\n",
    "        print(\"choose a valid sentiment ['positive','negative']\")\n"
   ]
  },
  {
   "cell_type": "markdown",
   "metadata": {},
   "source": [
    "## Analisis"
   ]
  },
  {
   "cell_type": "markdown",
   "metadata": {},
   "source": [
    "### Pruebas de Vectorizacion y Sentiment Analisis"
   ]
  },
  {
   "cell_type": "code",
   "execution_count": 91,
   "metadata": {},
   "outputs": [
    {
     "data": {
      "text/plain": [
       "<AxesSubplot:title={'center':'Most frequent topics in twitter'}, xlabel='(colin kaepernick, 830)'>"
      ]
     },
     "execution_count": 91,
     "metadata": {},
     "output_type": "execute_result"
    },
    {
     "data": {
      "image/png": "[encoded data removed]",
      "text/plain": [
       "<Figure size 1440x576 with 1 Axes>"
      ]
     },
     "metadata": {
      "needs_background": "light"
     },
     "output_type": "display_data"
    }
   ],
   "source": [
    "corpus = df_tw['tweet_full_text']\n",
    "\n",
    "vector_for_word('',corpus,'bigram')"
   ]
  },
  {
   "cell_type": "code",
   "execution_count": 31,
   "metadata": {},
   "outputs": [
    {
     "name": "stdout",
     "output_type": "stream",
     "text": [
      "This text Analisis running on Nike Twitts is talking about: donald\n",
      "Summarize for selection the and text analisis\n"
     ]
    },
    {
     "data": {
      "text/html": [
       "<div>\n",
       "<style scoped>\n",
       "    .dataframe tbody tr th:only-of-type {\n",
       "        vertical-align: middle;\n",
       "    }\n",
       "\n",
       "    .dataframe tbody tr th {\n",
       "        vertical-align: top;\n",
       "    }\n",
       "\n",
       "    .dataframe thead th {\n",
       "        text-align: right;\n",
       "    }\n",
       "</style>\n",
       "<table border=\"1\" class=\"dataframe\">\n",
       "  <thead>\n",
       "    <tr style=\"text-align: right;\">\n",
       "      <th></th>\n",
       "      <th>Comments Polarity</th>\n",
       "      <th>Porcentage</th>\n",
       "    </tr>\n",
       "  </thead>\n",
       "  <tbody>\n",
       "    <tr>\n",
       "      <th>Negative</th>\n",
       "      <td>26</td>\n",
       "      <td>30.0%</td>\n",
       "    </tr>\n",
       "    <tr>\n",
       "      <th>Neutral</th>\n",
       "      <td>23</td>\n",
       "      <td>26.0%</td>\n",
       "    </tr>\n",
       "    <tr>\n",
       "      <th>Positive</th>\n",
       "      <td>39</td>\n",
       "      <td>44.0%</td>\n",
       "    </tr>\n",
       "  </tbody>\n",
       "</table>\n",
       "</div>"
      ],
      "text/plain": [
       "          Comments Polarity Porcentage\n",
       "Negative                 26      30.0%\n",
       "Neutral                  23      26.0%\n",
       "Positive                 39      44.0%"
      ]
     },
     "metadata": {},
     "output_type": "display_data"
    },
    {
     "data": {
      "image/png": "[encoded data removed]",
      "text/plain": [
       "<Figure size 432x288 with 1 Axes>"
      ]
     },
     "metadata": {
      "needs_background": "light"
     },
     "output_type": "display_data"
    }
   ],
   "source": [
    "corpus = df_tw['tweet_full_text']\n",
    "corpus_sent = text_sentiment(\"donald\",corpus)\n",
    "\n",
    "\n"
   ]
  },
  {
   "cell_type": "code",
   "execution_count": 32,
   "metadata": {},
   "outputs": [
    {
     "name": "stdout",
     "output_type": "stream",
     "text": [
      "5 five most negative messages\n",
      "trumpissostupid went inspect navy seal aquarium trump donaldtrump stupid republican woodward kapernick nike nikeboycott potus \n",
      " Score:-0.7999999999999999\n",
      "---------------------------------------------------------------------------\n",
      "google this video stupid thing said donald trump justdoit \n",
      " Score:-0.7999999999999999\n",
      "---------------------------------------------------------------------------\n",
      "colorado pissed know bad nikeboycott nike kaepernicknike kapernick colorado potus donaldtrump \n",
      " Score:-0.6999999999999998\n",
      "---------------------------------------------------------------------------\n",
      "nike dream crazy nike nfl colinkaepernick serenawilliams tennis athlete football lebronjames justdoit er nikeboycott donaldtrump injustice protest via \n",
      " Score:-0.6\n",
      "---------------------------------------------------------------------------\n",
      "whats wrong nike making colin kaepernick face campaign yall made donald trump face america justdoit nike \n",
      " Score:-0.5\n",
      "---------------------------------------------------------------------------\n"
     ]
    }
   ],
   "source": [
    "message(corpus_sent,'negative')\n"
   ]
  },
  {
   "cell_type": "markdown",
   "metadata": {},
   "source": [
    "### Cited Post - Principal Entities named "
   ]
  },
  {
   "cell_type": "code",
   "execution_count": 33,
   "metadata": {},
   "outputs": [],
   "source": [
    "def tagged_plot(corpus):\n",
    "    \"\"\"\n",
    "    Take a corpus as an argument and retorn a set of people tagged in this twit ploting the most relevant @mentions \n",
    "    \"\"\"\n",
    "    new_text = corpus.apply(lambda text: set([item for item in text.split() if '@' in item]))\n",
    "    \n",
    "    frame_tagged = new_text \n",
    "\n",
    "    list_tagged_names = list()\n",
    "\n",
    "    for line in frame_tagged:\n",
    "        for mention in line:\n",
    "            list_tagged_names.append(mention)\n",
    "\n",
    "\n",
    "    frame_tagged = pd.DataFrame({'tagged' : list_tagged_names})\n",
    "\n",
    "    frame_tagged = frame_tagged.apply(lambda x : lowercase(x))\n",
    "\n",
    "    frame_tagged = frame_tagged.apply(lambda x : x.str.strip()) \n",
    "\n",
    "    frame_tagged = frame_tagged.apply(lambda x : x.str.lstrip('@')) \n",
    "\n",
    "    frame_tagged = frame_tagged.apply(lambda x : remove_punct(x)) \n",
    "\n",
    "    plt.figure(figsize=(10,5))\n",
    "    plot = frame_tagged['tagged'].value_counts().head(20).plot(kind='bar', color = 'darkorange', title=\"Top 20 @mentions in Twitter dataset\")\n",
    "        \n",
    "        \n",
    "    return plot\n",
    "\n",
    "def tagged_index(name,corpus):\n",
    "    \"\"\"\n",
    "    Take a mention y devuelve los indices del dataframe donde aparecen\n",
    "    # Hay que escribir el @mention con mayuscula al principio porque es sensible\n",
    "    # Nike \n",
    "    # Kaepernick\n",
    "    # NFL\n",
    "    \"\"\"\n",
    "    new_text = corpus.apply(lambda text: set([item for item in text.split() if \"@\" in item]))\n",
    "    \n",
    "    tagged_df = pd.DataFrame({'tagged':new_text})\n",
    "\n",
    "    index = []\n",
    "    for i in range(len(tagged_df)):\n",
    "        for tag in tagged_df['tagged'].iloc[i]:\n",
    "            if name in tag:\n",
    "                index.append(i)\n",
    "\n",
    "    return index\n"
   ]
  },
  {
   "cell_type": "code",
   "execution_count": 92,
   "metadata": {},
   "outputs": [
    {
     "data": {
      "text/plain": [
       "<AxesSubplot:title={'center':'Top 20 @mentions in Twitter dataset'}>"
      ]
     },
     "execution_count": 92,
     "metadata": {},
     "output_type": "execute_result"
    },
    {
     "data": {
      "image/png": "[encoded data removed]",
      "text/plain": [
       "<Figure size 720x360 with 1 Axes>"
      ]
     },
     "metadata": {
      "needs_background": "light"
     },
     "output_type": "display_data"
    }
   ],
   "source": [
    "tagged_plot(df_tw['tweet_full_text'])"
   ]
  },
  {
   "cell_type": "code",
   "execution_count": 87,
   "metadata": {},
   "outputs": [
    {
     "name": "stdout",
     "output_type": "stream",
     "text": [
      " Mentions founded: \n",
      "@Nike : 1861\n",
      "@Kaepernick:1588\n",
      "@realDonaldTrump: 554\n",
      "@NFL:206\n"
     ]
    }
   ],
   "source": [
    "# Hay que escribir el @mention con mayuscula al principio porque es sensible\n",
    "# @Nike \n",
    "# @Kaepernick\n",
    "# @NFL\n",
    "# @realDonaldTrump\n",
    "\n",
    "Nike_df_index = tagged_index('@Nike',df_tw['tweet_full_text'])\n",
    "\n",
    "Kaepernick_df_index = tagged_index('@Kaepernick',df_tw['tweet_full_text'])\n",
    "\n",
    "NFL_df_index = tagged_index('@NFL',df_tw['tweet_full_text'])\n",
    "\n",
    "realDonaldTrump_df_index = tagged_index('@realDonaldTrump',df_tw['tweet_full_text'])\n",
    "\n",
    "print(f' Mentions founded: \\n'\n",
    "    f'@Nike : {len(Nike_df_index)}\\n'\n",
    "    f'@Kaepernick:{len(Kaepernick_df_index)}\\n'\n",
    "    f'@realDonaldTrump: {len(realDonaldTrump_df_index)}\\n'\n",
    "    f'@NFL:{len(NFL_df_index)}')\n",
    "        "
   ]
  },
  {
   "cell_type": "code",
   "execution_count": 112,
   "metadata": {},
   "outputs": [],
   "source": [
    "# Considering NFL mentions\n",
    "corpus_Nike = df_tw['tweet_full_text'].iloc[Nike_df_index]\n",
    "\n",
    "# Considering NFL mentions\n",
    "corpus_Kaepernick = df_tw['tweet_full_text'].iloc[Kaepernick_df_index]\n",
    "\n",
    "# Considering NFL mentions\n",
    "corpus_NFL = df_tw['tweet_full_text'].iloc[NFL_df_index]\n",
    "\n",
    "# Considering NFL mentions\n",
    "corpus_Donald = df_tw['tweet_full_text'].iloc[realDonaldTrump_df_index]"
   ]
  },
  {
   "cell_type": "code",
   "execution_count": 125,
   "metadata": {},
   "outputs": [
    {
     "name": "stdout",
     "output_type": "stream",
     "text": [
      "This text Analisis running on Nike Twitts is talking about: \n",
      "Summarize for selection the and text analisis\n"
     ]
    },
    {
     "data": {
      "text/html": [
       "<div>\n",
       "<style scoped>\n",
       "    .dataframe tbody tr th:only-of-type {\n",
       "        vertical-align: middle;\n",
       "    }\n",
       "\n",
       "    .dataframe tbody tr th {\n",
       "        vertical-align: top;\n",
       "    }\n",
       "\n",
       "    .dataframe thead th {\n",
       "        text-align: right;\n",
       "    }\n",
       "</style>\n",
       "<table border=\"1\" class=\"dataframe\">\n",
       "  <thead>\n",
       "    <tr style=\"text-align: right;\">\n",
       "      <th></th>\n",
       "      <th>Comments Polarity</th>\n",
       "      <th>Porcentage</th>\n",
       "    </tr>\n",
       "  </thead>\n",
       "  <tbody>\n",
       "    <tr>\n",
       "      <th>Negative</th>\n",
       "      <td>88</td>\n",
       "      <td>16.0%</td>\n",
       "    </tr>\n",
       "    <tr>\n",
       "      <th>Neutral</th>\n",
       "      <td>223</td>\n",
       "      <td>40.0%</td>\n",
       "    </tr>\n",
       "    <tr>\n",
       "      <th>Positive</th>\n",
       "      <td>243</td>\n",
       "      <td>44.0%</td>\n",
       "    </tr>\n",
       "  </tbody>\n",
       "</table>\n",
       "</div>"
      ],
      "text/plain": [
       "          Comments Polarity Porcentage\n",
       "Negative                 88      16.0%\n",
       "Neutral                 223      40.0%\n",
       "Positive                243      44.0%"
      ]
     },
     "metadata": {},
     "output_type": "display_data"
    },
    {
     "data": {
      "image/png": "[encoded data removed]",
      "text/plain": [
       "<Figure size 432x288 with 1 Axes>"
      ]
     },
     "metadata": {
      "needs_background": "light"
     },
     "output_type": "display_data"
    }
   ],
   "source": [
    "Corpus_sentiment =text_sentiment(\"\",corpus_Donald)"
   ]
  },
  {
   "cell_type": "code",
   "execution_count": 127,
   "metadata": {},
   "outputs": [
    {
     "name": "stdout",
     "output_type": "stream",
     "text": [
      "5 five best message\n",
      "equality fairness best be justdoit \n",
      " Score:1.0\n",
      "---------------------------------------------------------------------------\n",
      "best parody ad inspired nikeboycott maga kid know never happen though \n",
      " Score:1.0\n",
      "---------------------------------------------------------------------------\n",
      "brilliant deal justdoit 🙌 \n",
      " Score:0.9\n",
      "---------------------------------------------------------------------------\n",
      "thing republican thinking elect you justdoit worstpresidentever \n",
      " Score:0.8\n",
      "---------------------------------------------------------------------------\n",
      "happily watch montana tonight instead season opener shove colinkaepernick ad sun don ’ t shine nflkickoff nflboycott nikeboycott atlvsphi \n",
      " Score:0.8\n",
      "---------------------------------------------------------------------------\n"
     ]
    }
   ],
   "source": [
    "message(Corpus_sentiment,\"positive\") \n",
    "\n",
    "# There are a lot of sarcasm in Donald Trump Twits"
   ]
  }
 ],
 "metadata": {
  "kernelspec": {
   "display_name": "Python 3.9.12 ('base')",
   "language": "python",
   "name": "python3"
  },
  "language_info": {
   "codemirror_mode": {
    "name": "ipython",
    "version": 3
   },
   "file_extension": ".py",
   "mimetype": "text/x-python",
   "name": "python",
   "nbconvert_exporter": "python",
   "pygments_lexer": "ipython3",
   "version": "3.9.12"
  },
  "vscode": {
   "interpreter": {
    "hash": "7679c2132d3f6ce38c9df14d554b39c06862b36a4e6689c81f9ae15bd0911d7d"
   }
  }
 },
 "nbformat": 4,
 "nbformat_minor": 4
}
